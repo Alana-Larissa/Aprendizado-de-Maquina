{
  "nbformat": 4,
  "nbformat_minor": 0,
  "metadata": {
    "colab": {
      "name": "Cópia de Untitled0.ipynb",
      "provenance": [],
      "collapsed_sections": [],
      "authorship_tag": "ABX9TyPQbo52jqhiCEwAI3RG9XME",
      "include_colab_link": true
    },
    "kernelspec": {
      "name": "python3",
      "display_name": "Python 3"
    },
    "language_info": {
      "name": "python"
    }
  },
  "cells": [
    {
      "cell_type": "markdown",
      "metadata": {
        "id": "view-in-github",
        "colab_type": "text"
      },
      "source": [
        "<a href=\"https://colab.research.google.com/github/Alana-Larissa/BlackJack-Game/blob/main/Atividade.ipynb\" target=\"_parent\"><img src=\"https://colab.research.google.com/assets/colab-badge.svg\" alt=\"Open In Colab\"/></a>"
      ]
    },
    {
      "cell_type": "code",
      "execution_count": null,
      "metadata": {
        "colab": {
          "base_uri": "https://localhost:8080/"
        },
        "id": "NcQ5HMIJ6DDA",
        "outputId": "7abf4ad8-067f-4d66-b35c-3a0c9404afd7"
      },
      "outputs": [
        {
          "output_type": "stream",
          "name": "stdout",
          "text": [
            "True\n",
            "True\n",
            "Hoje está chovendo rua está molhada\n"
          ]
        }
      ],
      "source": [
        "# P -> Q\n",
        "P = [\"Hoje está chovendo\", True]\n",
        "Q = [\"rua está molhada\", True]\n",
        "\n",
        "\n",
        "print(P[1])\n",
        "print(Q[1])\n",
        "\n",
        "if P[1]:\n",
        "  print(P[0] + \" \" + Q[0])"
      ]
    },
    {
      "cell_type": "code",
      "source": [
        "P = True\n",
        "Q = False\n",
        "R = False\n",
        "\n",
        "resultado = P and Q or (not(P) and R)\n",
        "\n",
        "resultado"
      ],
      "metadata": {
        "colab": {
          "base_uri": "https://localhost:8080/"
        },
        "id": "4B2r-w1P6j1p",
        "outputId": "f75e381e-92a4-43ab-c80f-cd55ecfba750"
      },
      "execution_count": null,
      "outputs": [
        {
          "output_type": "execute_result",
          "data": {
            "text/plain": [
              "False"
            ]
          },
          "metadata": {},
          "execution_count": 8
        }
      ]
    },
    {
      "cell_type": "code",
      "source": [
        "# P -> Q\n",
        "P = [\"O carro anda\", True]\n",
        "Q = [\"corre em alguma rua\", True]\n",
        "print(P[1])\n",
        "print(Q[1])\n",
        "\n",
        "\n",
        "if P[1]:\n",
        "  print(P[0] + \" \" + Q[0])"
      ],
      "metadata": {
        "colab": {
          "base_uri": "https://localhost:8080/"
        },
        "id": "WaFZLzPO64xc",
        "outputId": "9b0d790e-9f3d-4b82-d644-0be953310ce4"
      },
      "execution_count": null,
      "outputs": [
        {
          "output_type": "stream",
          "name": "stdout",
          "text": [
            "True\n",
            "True\n",
            "O carro anda corre em alguma rua\n"
          ]
        }
      ]
    },
    {
      "cell_type": "code",
      "source": [
        "P=False\n",
        "Q=True\n",
        "R=False\n",
        "\n",
        "P or (Q and R) or R"
      ],
      "metadata": {
        "colab": {
          "base_uri": "https://localhost:8080/"
        },
        "id": "qDyQ1yLWD9a4",
        "outputId": "80524551-4d3d-482b-ee13-1118170fa489"
      },
      "execution_count": null,
      "outputs": [
        {
          "output_type": "execute_result",
          "data": {
            "text/plain": [
              "False"
            ]
          },
          "metadata": {},
          "execution_count": 39
        }
      ]
    },
    {
      "cell_type": "code",
      "source": [
        "P=True\n",
        "Q=False\n",
        "R=True\n",
        "\n",
        "if P: Q or (not(P) and R)"
      ],
      "metadata": {
        "id": "Qh_Zp8a_EWOx"
      },
      "execution_count": null,
      "outputs": []
    },
    {
      "cell_type": "code",
      "source": [
        "# P -> Q\n",
        "P = [\"Há sol\", True]\n",
        "Q = [\"a rua está seca\", True]\n",
        "\n",
        "\n",
        "print(P[1])\n",
        "print(Q[1])\n",
        "\n",
        "if P[1]:\n",
        "  print(P[0] + \" \" + Q[0])"
      ],
      "metadata": {
        "colab": {
          "base_uri": "https://localhost:8080/"
        },
        "id": "E6hpZQkMGKO1",
        "outputId": "e9128147-e7a4-45d0-91d6-aa518426ed3b"
      },
      "execution_count": null,
      "outputs": [
        {
          "output_type": "stream",
          "name": "stdout",
          "text": [
            "True\n",
            "True\n",
            "Há sol a rua está seca\n"
          ]
        }
      ]
    },
    {
      "cell_type": "code",
      "source": [
        "# P -> Q\n",
        "P = [\"Há um problema\", True]\n",
        "Q = [\"chame o técnico\", True]\n",
        "\n",
        "\n",
        "print(P[1])\n",
        "print(Q[1])\n",
        "\n",
        "if P[1]:\n",
        "  print(P[0] + \" \" + Q[0])"
      ],
      "metadata": {
        "colab": {
          "base_uri": "https://localhost:8080/"
        },
        "id": "NmuCucJOHwpA",
        "outputId": "b49ec161-acd3-4d2d-a81d-88f32cc75297"
      },
      "execution_count": null,
      "outputs": [
        {
          "output_type": "stream",
          "name": "stdout",
          "text": [
            "True\n",
            "True\n",
            "Há um problema chame o técnico\n"
          ]
        }
      ]
    },
    {
      "cell_type": "code",
      "source": [
        "P=True\n",
        "Q=False\n",
        "R=False\n",
        "\n",
        "(P and R) or (Q and R)"
      ],
      "metadata": {
        "colab": {
          "base_uri": "https://localhost:8080/"
        },
        "id": "7r7KGzBUH_6u",
        "outputId": "96707b8b-97cf-462d-d5da-11107e2a171c"
      },
      "execution_count": null,
      "outputs": [
        {
          "output_type": "execute_result",
          "data": {
            "text/plain": [
              "False"
            ]
          },
          "metadata": {},
          "execution_count": 57
        }
      ]
    },
    {
      "cell_type": "code",
      "source": [
        "P=False\n",
        "Q=True\n",
        "R=False\n",
        "\n",
        "P or Q and ((R) or R)"
      ],
      "metadata": {
        "colab": {
          "base_uri": "https://localhost:8080/"
        },
        "id": "MGafOUt6LRcS",
        "outputId": "d847200d-b6c3-46f3-8467-426adf0548a3"
      },
      "execution_count": null,
      "outputs": [
        {
          "output_type": "execute_result",
          "data": {
            "text/plain": [
              "False"
            ]
          },
          "metadata": {},
          "execution_count": 58
        }
      ]
    },
    {
      "cell_type": "code",
      "source": [
        "P=True\n",
        "Q=False\n",
        "R=True\n",
        "\n",
        "if R: Q and (P or Q and not R)"
      ],
      "metadata": {
        "id": "OwynQU9VLuKc"
      },
      "execution_count": null,
      "outputs": []
    }
  ]
}